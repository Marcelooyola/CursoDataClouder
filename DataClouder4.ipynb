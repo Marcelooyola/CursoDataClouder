{
  "nbformat": 4,
  "nbformat_minor": 0,
  "metadata": {
    "colab": {
      "provenance": [],
      "authorship_tag": "ABX9TyP0fuJnLejrCx3nzf6utlcP",
      "include_colab_link": true
    },
    "kernelspec": {
      "name": "python3",
      "display_name": "Python 3"
    },
    "language_info": {
      "name": "python"
    }
  },
  "cells": [
    {
      "cell_type": "markdown",
      "metadata": {
        "id": "view-in-github",
        "colab_type": "text"
      },
      "source": [
        "<a href=\"https://colab.research.google.com/github/Marcelooyola/CursoDataClouder/blob/main/DataClouder4.ipynb\" target=\"_parent\"><img src=\"https://colab.research.google.com/assets/colab-badge.svg\" alt=\"Open In Colab\"/></a>"
      ]
    },
    {
      "cell_type": "markdown",
      "source": [
        "Link: https://www.youtube.com/watch?v=Rorr8uYQ8UU&list=PLKd7y--oK26dWXHV0Aoi5eOgoikk3Fp-J&index=4&ab_channel=DATACLOUDER"
      ],
      "metadata": {
        "id": "ulbg2KQqbKdp"
      }
    },
    {
      "cell_type": "code",
      "execution_count": 3,
      "metadata": {
        "colab": {
          "base_uri": "https://localhost:8080/"
        },
        "id": "Yfx_eU0pPEri",
        "outputId": "c9b7ddd8-66f0-408c-a09a-c510065683b4"
      },
      "outputs": [
        {
          "output_type": "stream",
          "name": "stdout",
          "text": [
            "Cual es tu edad:45\n",
            "Eres mayor de edad\n",
            "Felicidades, puedes pasar\n"
          ]
        }
      ],
      "source": [
        "#Ejercicio 1\n",
        "\n",
        "tu_edad = int(input(\"Cual es tu edad:\"))\n",
        "\n",
        "if(tu_edad >= 18):\n",
        "  print(\"Eres mayor de edad\")\n",
        "  print(\"Felicidades, puedes pasar\")\n",
        "elif(tu_edad < 18):\n",
        "  print(\"Eres menor de edad\")\n",
        "  print(\"retirate, por favor y vuelve en \",18 - tu_edad,\"años\")\n"
      ]
    },
    {
      "cell_type": "code",
      "source": [
        "#ejercicio 2\n",
        "#dado un numero definir si es par o inpar\n",
        "\n",
        "numero = int(input(\"Ingrese el numero: \"))\n",
        "\n",
        "modulo = numero % 2\n",
        "\n",
        "if(modulo == 0):\n",
        "  print(\"El N°\",numero,\"es un numero par\")\n",
        "else:\n",
        "  print(\"El N°\",numero,\"es un numero impar\")\n",
        ""
      ],
      "metadata": {
        "colab": {
          "base_uri": "https://localhost:8080/"
        },
        "id": "L5sJMPD7P-D8",
        "outputId": "a2d9d03f-6044-4c8f-dfd8-47871e45b269"
      },
      "execution_count": 8,
      "outputs": [
        {
          "output_type": "stream",
          "name": "stdout",
          "text": [
            "Ingrese el numero: 4543\n",
            "El N° 4543 es un numero impar\n"
          ]
        }
      ]
    },
    {
      "cell_type": "markdown",
      "source": [
        "#Estructura de datos"
      ],
      "metadata": {
        "id": "OX4elT7uQ32e"
      }
    },
    {
      "cell_type": "markdown",
      "source": [
        "##Lista\n",
        "Es un contenedor de elementos, puede tener distintos tipos de valores como: enteros, cadenas y otros objetos"
      ],
      "metadata": {
        "id": "C0f080toQ9jD"
      }
    },
    {
      "cell_type": "code",
      "source": [
        "mi_lista = [1,2,3,4]\n",
        "mi_lista"
      ],
      "metadata": {
        "colab": {
          "base_uri": "https://localhost:8080/"
        },
        "id": "NMR02ILFQpp_",
        "outputId": "ca50500e-173c-4936-ca90-6990618073e0"
      },
      "execution_count": 15,
      "outputs": [
        {
          "output_type": "execute_result",
          "data": {
            "text/plain": [
              "[1, 2, 3, 4]"
            ]
          },
          "metadata": {},
          "execution_count": 15
        }
      ]
    },
    {
      "cell_type": "markdown",
      "source": [
        "#Ciclos, bucles o loops\n",
        "Son secuencias de codigo que se ejecuta repetidas veces, hasta que se cumpla una condicion.\n",
        "\n",
        "Existen los ciclos \"For\" y \"While\"\n",
        "\n",
        "For es el mas utilizado --> este sejecuta sobre iterables\n",
        "\n"
      ],
      "metadata": {
        "id": "AMt6-wCxRwDZ"
      }
    },
    {
      "cell_type": "code",
      "source": [
        "lista_colores = []\n",
        "\n",
        "for lista_colores in  range(5):\n",
        "  lista_colores = input(\"Ingrese un color por favor: \")\n",
        "  print(lista_colores)\n",
        "\n",
        "\n",
        "\n"
      ],
      "metadata": {
        "colab": {
          "base_uri": "https://localhost:8080/"
        },
        "id": "776VXI0_RacN",
        "outputId": "4c9548ae-e047-44f9-a9ff-0a72036668f5"
      },
      "execution_count": 27,
      "outputs": [
        {
          "output_type": "stream",
          "name": "stdout",
          "text": [
            "Ingrese un color por favor: rojo\n",
            "rojo\n",
            "Ingrese un color por favor: amarillo\n",
            "amarillo\n",
            "Ingrese un color por favor: verde\n",
            "verde\n",
            "Ingrese un color por favor: lila\n",
            "lila\n",
            "Ingrese un color por favor: marron\n",
            "marron\n"
          ]
        }
      ]
    },
    {
      "cell_type": "code",
      "source": [
        "lista_colores\n"
      ],
      "metadata": {
        "colab": {
          "base_uri": "https://localhost:8080/",
          "height": 35
        },
        "id": "T-XDmTjuTYc6",
        "outputId": "efe4a5f0-911b-4719-aa2c-be7b07f2b431"
      },
      "execution_count": 28,
      "outputs": [
        {
          "output_type": "execute_result",
          "data": {
            "text/plain": [
              "'marron'"
            ],
            "application/vnd.google.colaboratory.intrinsic+json": {
              "type": "string"
            }
          },
          "metadata": {},
          "execution_count": 28
        }
      ]
    },
    {
      "cell_type": "markdown",
      "source": [
        "##Ejercicio\n",
        "Muestra si un usuario esta registrado o no en el sistema\n",
        "\n",
        "Los usuarios validos son:\n",
        "\n",
        "\n",
        "\n",
        "*   \"juan@gmail.com\"\n",
        "*   \"marta@gmail.com\"\n",
        "*   \"pablo@gmail.com\"\n",
        "*   \"joseperez@gmail.com\"\n",
        "\n",
        "![imagen](https://borlabs.io/wp-content/uploads/2019/09/blog-wp-login.png)\n",
        "\n"
      ],
      "metadata": {
        "id": "VssUeelcUovj"
      }
    },
    {
      "cell_type": "code",
      "source": [
        "tu_mail = input(\"Por favor, ingrese mail de usuario:\")\n",
        "usuarios_registrados = [\"juan@gmail.com\",\"pablo@gmail,com\",\"marta@gmail.com\",\"joseperez@gmail.com\"]\n",
        "existe = False\n",
        "\n",
        "for validacion in usuarios_registrados:\n",
        "  print(\"Aguarde...\")\n",
        "  if(tu_mail == validacion):\n",
        "    existe = True\n",
        "    break\n",
        "  else:\n",
        "    existe = False\n",
        "\n",
        "if(existe):\n",
        "  print(\"Usuario correcto. Bienvenido/a: \",tu_mail)\n",
        "else:\n",
        "  print(\"Usuario incorrecto. Revise los datos ingresados\")"
      ],
      "metadata": {
        "colab": {
          "base_uri": "https://localhost:8080/"
        },
        "id": "utrU9YA4TleG",
        "outputId": "e60b5988-81d9-4fef-f06f-56424a302354"
      },
      "execution_count": 34,
      "outputs": [
        {
          "output_type": "stream",
          "name": "stdout",
          "text": [
            "Por favor, ingrese mail de usuario:marta@gmail.com\n",
            "Aguarde...\n",
            "Aguarde...\n",
            "Aguarde...\n",
            "Usuario correcto. Bienvenido  marta@gmail.com\n"
          ]
        }
      ]
    },
    {
      "cell_type": "code",
      "source": [],
      "metadata": {
        "id": "uoao_iT2ZHmj"
      },
      "execution_count": null,
      "outputs": []
    }
  ]
}