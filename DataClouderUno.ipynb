{
  "nbformat": 4,
  "nbformat_minor": 0,
  "metadata": {
    "colab": {
      "provenance": [],
      "authorship_tag": "ABX9TyNFLIDfqsG3Gxe7x64b4Wzi",
      "include_colab_link": true
    },
    "kernelspec": {
      "name": "python3",
      "display_name": "Python 3"
    },
    "language_info": {
      "name": "python"
    }
  },
  "cells": [
    {
      "cell_type": "markdown",
      "metadata": {
        "id": "view-in-github",
        "colab_type": "text"
      },
      "source": [
        "<a href=\"https://colab.research.google.com/github/Marcelooyola/CursoDataClouder/blob/main/DataClouderUno.ipynb\" target=\"_parent\"><img src=\"https://colab.research.google.com/assets/colab-badge.svg\" alt=\"Open In Colab\"/></a>"
      ]
    },
    {
      "cell_type": "markdown",
      "source": [
        "# Comenzando con Google Colab\n",
        "## Titulo 2\n",
        "### Titulo 3\n",
        "#### Titulo 4\n",
        "\n",
        "Link del video: https://www.youtube.com/watch?v=8VFYs3Ot_aA&list=PLKd7y--oK26dWXHV0Aoi5eOgoikk3Fp-J&ab_channel=DATACLOUDER\n",
        "\n",
        "Objetivos:\n",
        "\n",
        "*   Aprender\n",
        "*   Practicar\n",
        "*   Programar\n",
        "\n"
      ],
      "metadata": {
        "id": "0XHB3NVt6lvR"
      }
    },
    {
      "cell_type": "code",
      "execution_count": 1,
      "metadata": {
        "colab": {
          "base_uri": "https://localhost:8080/"
        },
        "id": "m21i6WwH37Nk",
        "outputId": "3afc045c-4802-41c6-a41c-8d94b50e4079"
      },
      "outputs": [
        {
          "output_type": "stream",
          "name": "stdout",
          "text": [
            "Hola mundo Colab\n"
          ]
        }
      ],
      "source": [
        "print (\"Hola mundo Colab\")"
      ]
    },
    {
      "cell_type": "markdown",
      "source": [
        "## Clase de variables\n",
        "Crear variable A, variable B, y sumarlas"
      ],
      "metadata": {
        "id": "Pjf6pZHO7DmG"
      }
    },
    {
      "cell_type": "code",
      "source": [
        "a = 2\n",
        "b = 3\n",
        "a + b"
      ],
      "metadata": {
        "colab": {
          "base_uri": "https://localhost:8080/"
        },
        "id": "XVT6GWEl690w",
        "outputId": "868f24e1-18e7-4316-e790-edf2eba19eaa"
      },
      "execution_count": 2,
      "outputs": [
        {
          "output_type": "execute_result",
          "data": {
            "text/plain": [
              "5"
            ]
          },
          "metadata": {},
          "execution_count": 2
        }
      ]
    },
    {
      "cell_type": "markdown",
      "source": [
        "## Ejercicio de porcentajes\n",
        "Juan tiene 3 manzanas y 1 pera\n",
        "\n",
        "Pedro tiene 2 manzanas y 4 peras\n",
        "\n",
        "Mostrar porcentaje de frutas que posee cada uno"
      ],
      "metadata": {
        "id": "rQi3etAc7NZm"
      }
    },
    {
      "cell_type": "markdown",
      "source": [
        "### 1. Mostrar info con DataFrame\n",
        "DataFrame --> *Es un panel Bidimensional compuesto por filas y columnas*"
      ],
      "metadata": {
        "id": "nAzdcr_D8SSz"
      }
    },
    {
      "cell_type": "code",
      "source": [
        "import pandas as pd\n",
        "datos = pd.DataFrame({ \"manzanas\": [3, 2], \"peras\" : [1,4]}, index = [\"Juan\", \"Pedro\"])\n",
        "datos"
      ],
      "metadata": {
        "colab": {
          "base_uri": "https://localhost:8080/",
          "height": 112
        },
        "id": "RtLqGZDn7CCb",
        "outputId": "45237956-4a9f-4eec-a9f8-30989231fe05"
      },
      "execution_count": 3,
      "outputs": [
        {
          "output_type": "execute_result",
          "data": {
            "text/plain": [
              "       manzanas  peras\n",
              "Juan          3      1\n",
              "Pedro         2      4"
            ],
            "text/html": [
              "\n",
              "  <div id=\"df-77bd7486-07d5-478b-81d1-f1b9621e3cda\">\n",
              "    <div class=\"colab-df-container\">\n",
              "      <div>\n",
              "<style scoped>\n",
              "    .dataframe tbody tr th:only-of-type {\n",
              "        vertical-align: middle;\n",
              "    }\n",
              "\n",
              "    .dataframe tbody tr th {\n",
              "        vertical-align: top;\n",
              "    }\n",
              "\n",
              "    .dataframe thead th {\n",
              "        text-align: right;\n",
              "    }\n",
              "</style>\n",
              "<table border=\"1\" class=\"dataframe\">\n",
              "  <thead>\n",
              "    <tr style=\"text-align: right;\">\n",
              "      <th></th>\n",
              "      <th>manzanas</th>\n",
              "      <th>peras</th>\n",
              "    </tr>\n",
              "  </thead>\n",
              "  <tbody>\n",
              "    <tr>\n",
              "      <th>Juan</th>\n",
              "      <td>3</td>\n",
              "      <td>1</td>\n",
              "    </tr>\n",
              "    <tr>\n",
              "      <th>Pedro</th>\n",
              "      <td>2</td>\n",
              "      <td>4</td>\n",
              "    </tr>\n",
              "  </tbody>\n",
              "</table>\n",
              "</div>\n",
              "      <button class=\"colab-df-convert\" onclick=\"convertToInteractive('df-77bd7486-07d5-478b-81d1-f1b9621e3cda')\"\n",
              "              title=\"Convert this dataframe to an interactive table.\"\n",
              "              style=\"display:none;\">\n",
              "        \n",
              "  <svg xmlns=\"http://www.w3.org/2000/svg\" height=\"24px\"viewBox=\"0 0 24 24\"\n",
              "       width=\"24px\">\n",
              "    <path d=\"M0 0h24v24H0V0z\" fill=\"none\"/>\n",
              "    <path d=\"M18.56 5.44l.94 2.06.94-2.06 2.06-.94-2.06-.94-.94-2.06-.94 2.06-2.06.94zm-11 1L8.5 8.5l.94-2.06 2.06-.94-2.06-.94L8.5 2.5l-.94 2.06-2.06.94zm10 10l.94 2.06.94-2.06 2.06-.94-2.06-.94-.94-2.06-.94 2.06-2.06.94z\"/><path d=\"M17.41 7.96l-1.37-1.37c-.4-.4-.92-.59-1.43-.59-.52 0-1.04.2-1.43.59L10.3 9.45l-7.72 7.72c-.78.78-.78 2.05 0 2.83L4 21.41c.39.39.9.59 1.41.59.51 0 1.02-.2 1.41-.59l7.78-7.78 2.81-2.81c.8-.78.8-2.07 0-2.86zM5.41 20L4 18.59l7.72-7.72 1.47 1.35L5.41 20z\"/>\n",
              "  </svg>\n",
              "      </button>\n",
              "      \n",
              "  <style>\n",
              "    .colab-df-container {\n",
              "      display:flex;\n",
              "      flex-wrap:wrap;\n",
              "      gap: 12px;\n",
              "    }\n",
              "\n",
              "    .colab-df-convert {\n",
              "      background-color: #E8F0FE;\n",
              "      border: none;\n",
              "      border-radius: 50%;\n",
              "      cursor: pointer;\n",
              "      display: none;\n",
              "      fill: #1967D2;\n",
              "      height: 32px;\n",
              "      padding: 0 0 0 0;\n",
              "      width: 32px;\n",
              "    }\n",
              "\n",
              "    .colab-df-convert:hover {\n",
              "      background-color: #E2EBFA;\n",
              "      box-shadow: 0px 1px 2px rgba(60, 64, 67, 0.3), 0px 1px 3px 1px rgba(60, 64, 67, 0.15);\n",
              "      fill: #174EA6;\n",
              "    }\n",
              "\n",
              "    [theme=dark] .colab-df-convert {\n",
              "      background-color: #3B4455;\n",
              "      fill: #D2E3FC;\n",
              "    }\n",
              "\n",
              "    [theme=dark] .colab-df-convert:hover {\n",
              "      background-color: #434B5C;\n",
              "      box-shadow: 0px 1px 3px 1px rgba(0, 0, 0, 0.15);\n",
              "      filter: drop-shadow(0px 1px 2px rgba(0, 0, 0, 0.3));\n",
              "      fill: #FFFFFF;\n",
              "    }\n",
              "  </style>\n",
              "\n",
              "      <script>\n",
              "        const buttonEl =\n",
              "          document.querySelector('#df-77bd7486-07d5-478b-81d1-f1b9621e3cda button.colab-df-convert');\n",
              "        buttonEl.style.display =\n",
              "          google.colab.kernel.accessAllowed ? 'block' : 'none';\n",
              "\n",
              "        async function convertToInteractive(key) {\n",
              "          const element = document.querySelector('#df-77bd7486-07d5-478b-81d1-f1b9621e3cda');\n",
              "          const dataTable =\n",
              "            await google.colab.kernel.invokeFunction('convertToInteractive',\n",
              "                                                     [key], {});\n",
              "          if (!dataTable) return;\n",
              "\n",
              "          const docLinkHtml = 'Like what you see? Visit the ' +\n",
              "            '<a target=\"_blank\" href=https://colab.research.google.com/notebooks/data_table.ipynb>data table notebook</a>'\n",
              "            + ' to learn more about interactive tables.';\n",
              "          element.innerHTML = '';\n",
              "          dataTable['output_type'] = 'display_data';\n",
              "          await google.colab.output.renderOutput(dataTable, element);\n",
              "          const docLink = document.createElement('div');\n",
              "          docLink.innerHTML = docLinkHtml;\n",
              "          element.appendChild(docLink);\n",
              "        }\n",
              "      </script>\n",
              "    </div>\n",
              "  </div>\n",
              "  "
            ]
          },
          "metadata": {},
          "execution_count": 3
        }
      ]
    },
    {
      "cell_type": "markdown",
      "source": [
        "### 2. Al DataFrame darle formato de grafico de barras.\n",
        "\n",
        "Obtengo el DataFrame guardado en la variable datos y lo convierto a grafico de barras con plot.bar()"
      ],
      "metadata": {
        "id": "9hM50TeZ9dm4"
      }
    },
    {
      "cell_type": "code",
      "source": [
        "datos.plot.bar()"
      ],
      "metadata": {
        "colab": {
          "base_uri": "https://localhost:8080/",
          "height": 472
        },
        "id": "Ut6qImB69O6D",
        "outputId": "e9d74e86-7491-41e8-c704-bfbbf0b314a8"
      },
      "execution_count": 4,
      "outputs": [
        {
          "output_type": "execute_result",
          "data": {
            "text/plain": [
              "<Axes: >"
            ]
          },
          "metadata": {},
          "execution_count": 4
        },
        {
          "output_type": "display_data",
          "data": {
            "text/plain": [
              "<Figure size 640x480 with 1 Axes>"
            ],
            "image/png": "[encoded data removed]"
          },
          "metadata": {}
        }
      ]
    },
    {
      "cell_type": "markdown",
      "source": [
        "### 3. Darle Formato de barra horizontal\n",
        "\n",
        "Para ello se usa dentro de plot la función barh()"
      ],
      "metadata": {
        "id": "WePzyZxH-jQD"
      }
    },
    {
      "cell_type": "code",
      "source": [
        "datos.plot.barh()"
      ],
      "metadata": {
        "colab": {
          "base_uri": "https://localhost:8080/",
          "height": 447
        },
        "id": "r4cHGyh99bLR",
        "outputId": "eaf80341-da4d-4e5c-b03d-aacb1f9b3d95"
      },
      "execution_count": 5,
      "outputs": [
        {
          "output_type": "execute_result",
          "data": {
            "text/plain": [
              "<Axes: >"
            ]
          },
          "metadata": {},
          "execution_count": 5
        },
        {
          "output_type": "display_data",
          "data": {
            "text/plain": [
              "<Figure size 640x480 with 1 Axes>"
            ],
            "image/png": "[encoded data removed]"
          },
          "metadata": {}
        }
      ]
    },
    {
      "cell_type": "markdown",
      "source": [
        "### 4. Mostrar en grafico de tortas"
      ],
      "metadata": {
        "id": "P9ee08bt-vBM"
      }
    },
    {
      "cell_type": "code",
      "source": [
        "#@title Asi se oculta el codigo y se le asigna un titulo demostrativo\n",
        "datos[\"Total de frutas\"] = datos[\"manzanas\"] + datos[\"peras\"]\n",
        "datos.plot.pie( y= \"Total de frutas\", autopct = '%1.1f%%')"
      ],
      "metadata": {
        "colab": {
          "base_uri": "https://localhost:8080/",
          "height": 423
        },
        "cellView": "form",
        "id": "YZEPYkLW9RVv",
        "outputId": "9a75ab1b-acc4-4176-ff7c-14e6adcd5842"
      },
      "execution_count": 11,
      "outputs": [
        {
          "output_type": "execute_result",
          "data": {
            "text/plain": [
              "<Axes: ylabel='Total de frutas'>"
            ]
          },
          "metadata": {},
          "execution_count": 11
        },
        {
          "output_type": "display_data",
          "data": {
            "text/plain": [
              "<Figure size 640x480 with 1 Axes>"
            ],
            "image/png": "[encoded data removed]"
          },
          "metadata": {}
        }
      ]
    },
    {
      "cell_type": "code",
      "source": [
        "#@title Incrustar imagen con HTML\n",
        "%%html\n",
        "<img width=\"500px\" src=\"https://miro.medium.com/v2/resize:fit:828/format:webp/1*S2AyJcdw8EPcn7gwDVSBCA.png\"></img>"
      ],
      "metadata": {
        "colab": {
          "base_uri": "https://localhost:8080/",
          "height": 244
        },
        "cellView": "form",
        "id": "M5ZaVhPG_RPh",
        "outputId": "a4461a39-3138-4558-f0ba-e8504538bf22"
      },
      "execution_count": 12,
      "outputs": [
        {
          "output_type": "display_data",
          "data": {
            "text/plain": [
              "<IPython.core.display.HTML object>"
            ],
            "text/html": [
              "<img width=\"500px\" src=\"https://miro.medium.com/v2/resize:fit:828/format:webp/1*S2AyJcdw8EPcn7gwDVSBCA.png\"></img>\n"
            ]
          },
          "metadata": {}
        }
      ]
    },
    {
      "cell_type": "code",
      "source": [],
      "metadata": {
        "id": "a_17XgEaDjAO"
      },
      "execution_count": null,
      "outputs": []
    }
  ]
}