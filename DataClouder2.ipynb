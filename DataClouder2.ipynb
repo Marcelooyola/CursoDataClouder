{
  "nbformat": 4,
  "nbformat_minor": 0,
  "metadata": {
    "colab": {
      "provenance": [],
      "authorship_tag": "ABX9TyOnh+6oMxgXHixI3lojUBjK",
      "include_colab_link": true
    },
    "kernelspec": {
      "name": "python3",
      "display_name": "Python 3"
    },
    "language_info": {
      "name": "python"
    }
  },
  "cells": [
    {
      "cell_type": "markdown",
      "metadata": {
        "id": "view-in-github",
        "colab_type": "text"
      },
      "source": [
        "<a href=\"https://colab.research.google.com/github/Marcelooyola/CursoDataClouder/blob/main/DataClouder2.ipynb\" target=\"_parent\"><img src=\"https://colab.research.google.com/assets/colab-badge.svg\" alt=\"Open In Colab\"/></a>"
      ]
    },
    {
      "cell_type": "markdown",
      "source": [
        "## 1. Hola Mundo\n",
        "Linea de codigo con Python"
      ],
      "metadata": {
        "id": "5MZfsMROK74r"
      }
    },
    {
      "cell_type": "code",
      "execution_count": 2,
      "metadata": {
        "colab": {
          "base_uri": "https://localhost:8080/"
        },
        "id": "7vCoc9ZkK4pT",
        "outputId": "c1a39354-4828-4bf4-87c8-0974cb1ebd09"
      },
      "outputs": [
        {
          "output_type": "stream",
          "name": "stdout",
          "text": [
            "Hola Mundo\n",
            "Estoy conociendo Python\n"
          ]
        }
      ],
      "source": [
        "print(\"Hola Mundo\")\n",
        "print(\"Estoy conociendo Python\")"
      ]
    },
    {
      "cell_type": "markdown",
      "source": [
        "## 2. Variables\n",
        "refiere a un dato que existe en el programa, y en dicha variable se guarda el valor del campo.\n",
        "\n",
        "**bool** --> true - false\n",
        "\n",
        "**str** --> String de caracteres\n",
        "\n",
        "**int** --> numero entero\n",
        "\n",
        "**float** --> numero decimal"
      ],
      "metadata": {
        "id": "yCncu36ULUlS"
      }
    },
    {
      "cell_type": "code",
      "source": [
        "# Ejemplos de booleanos\n",
        "es_mayor_edad = False\n",
        "es_mujer = True\n",
        "\n",
        "#Ejemplos de cadenas\n",
        "nombre = \"Pedro\"\n",
        "saludo = \"Bienvenidos a DataClouder\"\n",
        "\n",
        "#Ejemplos de enteros\n",
        "peso = 85\n",
        "cantidad_hijos = 2\n",
        "\n",
        "# Ejemplos de flotantes\n",
        "estatura = 1.69\n",
        "pi = 3.1416\n",
        "\n"
      ],
      "metadata": {
        "colab": {
          "base_uri": "https://localhost:8080/"
        },
        "id": "kvBL6siZLCqo",
        "outputId": "28d2ba33-70ec-46e2-887d-026b1b845fa6"
      },
      "execution_count": 5,
      "outputs": [
        {
          "output_type": "stream",
          "name": "stdout",
          "text": [
            "4.8316\n"
          ]
        }
      ]
    },
    {
      "cell_type": "markdown",
      "source": [
        "## 3. Operadores\n",
        "Desempeñan operaciones con variables y valores\n",
        "\n",
        "**Aritmeticos** --> + - * /\n",
        "\n",
        "**Comparación** --> >  >=  <  <=  !=  ==\n",
        "\n",
        "**Lógicos** --> and or not"
      ],
      "metadata": {
        "id": "KYGsV12sNo7F"
      }
    },
    {
      "cell_type": "code",
      "source": [
        "# print(peso + 3)\n",
        "\n",
        "print (estatura / peso)\n",
        "\n",
        "print(\"El peso es: \" + str(peso > 85))"
      ],
      "metadata": {
        "colab": {
          "base_uri": "https://localhost:8080/"
        },
        "id": "uH-cSQtoL4eH",
        "outputId": "e96d5f7c-e336-42bd-ee9a-ef0ce5f3cbf7"
      },
      "execution_count": 14,
      "outputs": [
        {
          "output_type": "stream",
          "name": "stdout",
          "text": [
            "0.01988235294117647\n",
            "El peso es: False\n"
          ]
        }
      ]
    },
    {
      "cell_type": "markdown",
      "source": [
        "## 3. Ejercicio\n",
        "### Calcular el indice de la masa corporal\n",
        "Usa las variables peso (kg) y estatura (m) La formula es:\n",
        "\n",
        "$$imc = \\frac{peso}{altura^2}$$\n",
        "\n",
        "![texto alternativo](https://drcormillot.com.ar/wp-content/uploads/2022/02/imc_foto1.jpg)"
      ],
      "metadata": {
        "id": "0OzIEjZ-P0b8"
      }
    },
    {
      "cell_type": "code",
      "source": [
        "peso = 85\n",
        "estatura = 1.78\n",
        "imc = peso / (estatura**2)\n",
        "\n",
        "if (imc < 18.5):\n",
        "  print(\"I.M.C. = \"+str(imc)+\"\\nUsted tiene: Bajo Peso\")\n",
        "\n",
        "elif (imc < 24.9):\n",
        "  print(\"I.M.C. = \"+str(imc)+\"\\nUsted tiene: Saludable\")\n",
        "\n",
        "elif (imc < 29.9):\n",
        "  print(\"I.M.C. = \"+str(imc)+\"\\nUsted tiene: Sobrepeso\")\n",
        "\n",
        "elif (imc < 39.9):\n",
        "  print(\"I.M.C. = \"+str(imc)+\"\\nUsted tiene: Obesidad\")\n",
        "\n",
        "else :\n",
        "  print(\"I.M.C. = \"+str(imc)+\"\\nUsted tiene: Obesidad Severa\")"
      ],
      "metadata": {
        "colab": {
          "base_uri": "https://localhost:8080/"
        },
        "id": "FwQV8r9rObsz",
        "outputId": "1702a4be-53ab-4386-a77e-44bc3a9a1ac6"
      },
      "execution_count": 22,
      "outputs": [
        {
          "output_type": "stream",
          "name": "stdout",
          "text": [
            "I.M.C. = 26.82742078020452\n",
            "Usted tiene: Sobrepeso\n"
          ]
        }
      ]
    },
    {
      "cell_type": "code",
      "source": [],
      "metadata": {
        "id": "crsG6e7DS6SV"
      },
      "execution_count": null,
      "outputs": []
    }
  ]
}