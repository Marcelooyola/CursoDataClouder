{
  "nbformat": 4,
  "nbformat_minor": 0,
  "metadata": {
    "colab": {
      "provenance": [],
      "authorship_tag": "ABX9TyMJspju9MKO9WhNXJJZoV33",
      "include_colab_link": true
    },
    "kernelspec": {
      "name": "python3",
      "display_name": "Python 3"
    },
    "language_info": {
      "name": "python"
    }
  },
  "cells": [
    {
      "cell_type": "markdown",
      "metadata": {
        "id": "view-in-github",
        "colab_type": "text"
      },
      "source": [
        "<a href=\"https://colab.research.google.com/github/Marcelooyola/CursoDataClouder/blob/main/DataClouder3.ipynb\" target=\"_parent\"><img src=\"https://colab.research.google.com/assets/colab-badge.svg\" alt=\"Open In Colab\"/></a>"
      ]
    },
    {
      "cell_type": "markdown",
      "source": [
        "#Diccionario en Python\n",
        "link video -- https://www.youtube.com/watch?v=n_9EkxLiO0U&list=PLKd7y--oK26dWXHV0Aoi5eOgoikk3Fp-J&index=3&ab_channel=DATACLOUDER\n",
        "\n",
        "\n",
        "Estructura de datos Clave - Valor , donde se puede guardar multiples valores y cada uno tiene una clave para identificarlo de forma facil y rápida\n",
        "\n",
        "{\"Clave\": \"Valor\"}\n",
        "\n",
        "![Texto_alternatvio](https://deiniresendiz.com/wp-content/uploads/2020/06/Python-3.jpg)"
      ],
      "metadata": {
        "id": "CobGT7zsj2lA"
      }
    },
    {
      "cell_type": "code",
      "execution_count": 1,
      "metadata": {
        "id": "z6v6i_59jTdK"
      },
      "outputs": [],
      "source": [
        "persona = {\"nombre\": \"Marcelo\", \"apellido\": \"Oyola\",\n",
        "           \"anio_nacimiento\": 1997, \"mes_nacimiento\": 4,\n",
        "           \"dia_nacimiento\": 27}"
      ]
    },
    {
      "cell_type": "code",
      "source": [
        "persona[\"nombre\"]"
      ],
      "metadata": {
        "colab": {
          "base_uri": "https://localhost:8080/",
          "height": 35
        },
        "id": "NrX0tJTflTps",
        "outputId": "55e586fb-4be3-499f-f797-9fca530fad21"
      },
      "execution_count": 2,
      "outputs": [
        {
          "output_type": "execute_result",
          "data": {
            "text/plain": [
              "'Marcelo'"
            ],
            "application/vnd.google.colaboratory.intrinsic+json": {
              "type": "string"
            }
          },
          "metadata": {},
          "execution_count": 2
        }
      ]
    },
    {
      "cell_type": "markdown",
      "source": [
        "##Ejercicio\n",
        "\n",
        "Dado un diccionario con la info de una persona, calcular edad\n",
        "\n",
        "Salida debe ser: \"Marcelo tiene X años\""
      ],
      "metadata": {
        "id": "oftzqIOOmSPj"
      }
    },
    {
      "cell_type": "code",
      "source": [
        "import datetime\n",
        "\n",
        "currentDateTime = datetime.datetime.now()\n",
        "date = currentDateTime.date()\n",
        "\n",
        "anio_actual = date.year\n",
        "mes_actual = date.month\n",
        "dia_actual = date.day\n",
        "\n",
        "if (mes_actual > persona[\"mes_nacimiento\"]):\n",
        "   edad = anio_actual - persona[\"anio_nacimiento\"]\n",
        "\n",
        "elif (mes_actual == persona[\"mes_nacimiento\"]):\n",
        "    if(dia_actual >= persona[\"dia_nacimiento\"]):\n",
        "      edad = anio_actual - persona[\"anio_nacimiento\"]\n",
        "    else:\n",
        "      edad = (anio_actual - persona[\"anio_nacimiento\"]) - 1\n",
        "\n",
        "else:\n",
        "  edad = (anio_actual - persona[\"anio_nacimiento\"]) - 1\n",
        "\n",
        "\n",
        "\n",
        "print(\"La persona llamada \"+persona[\"nombre\"]+\" tiene \"+str(edad)+\" años\")"
      ],
      "metadata": {
        "colab": {
          "base_uri": "https://localhost:8080/"
        },
        "id": "fNwiEeKpmJ9J",
        "outputId": "cd408f8b-e131-4411-fe31-4541e343f05b"
      },
      "execution_count": 3,
      "outputs": [
        {
          "output_type": "stream",
          "name": "stdout",
          "text": [
            "La persona llamada Marcelo tiene 26 años\n"
          ]
        }
      ]
    },
    {
      "cell_type": "code",
      "source": [
        "#Mismo codigo mejor realizado\n",
        "import datetime\n",
        "\n",
        "currentDateTime = datetime.datetime.now()\n",
        "date = currentDateTime.date()\n",
        "\n",
        "edad = date.year - persona[\"anio_nacimiento\"]\n",
        "\n",
        "if (date.month > persona[\"mes_nacimiento\"]):\n",
        "    edad = edad\n",
        "\n",
        "elif (date.month == persona[\"mes_nacimiento\"] and date.day >= persona[\"dia_nacimiento\"]):\n",
        "    edad = edad\n",
        "\n",
        "else:\n",
        "  edad = edad - 1\n",
        "\n",
        "print(\"La persona llamada \"+persona[\"nombre\"]+\" tiene \"+str(edad)+\" años\")"
      ],
      "metadata": {
        "colab": {
          "base_uri": "https://localhost:8080/"
        },
        "id": "nl1M1B4JnBw0",
        "outputId": "4f3c34ad-374e-44a9-c8c5-d2261ec06c8c"
      },
      "execution_count": 4,
      "outputs": [
        {
          "output_type": "stream",
          "name": "stdout",
          "text": [
            "La persona llamada Marcelo tiene 26 años\n"
          ]
        }
      ]
    },
    {
      "cell_type": "markdown",
      "source": [
        "##Funciones\n",
        "Instrucciones de codigo que son reutilizables y brindan una funcionalidad especifica y de valor para el programa\n",
        "\n",
        "sintaxis\n",
        "\n",
        "```\n",
        "def nombre_funcion():\n",
        "  print(\"codigo a ejecutar\")\n",
        "```\n",
        "\n",
        "###Parametros de Funciones\n",
        "Los valores que utiliza la Función\n",
        "\n",
        "###Bibliotecas\n",
        "Conjunto de funcionalidades ya creadas y que pueden ser agregadas al programa mediante la palabra clave Import\n",
        "\n",
        "sintaxis\n",
        "\n",
        "\n",
        "\n",
        "```\n",
        "import datatime\n",
        "```\n",
        "\n"
      ],
      "metadata": {
        "id": "rWppEGR-vm1l"
      }
    },
    {
      "cell_type": "code",
      "source": [
        "def saludar():\n",
        "  print(\"Hola ¿como estaS?\")\n",
        "\n",
        "saludar()"
      ],
      "metadata": {
        "colab": {
          "base_uri": "https://localhost:8080/"
        },
        "id": "_syD6xVGuz24",
        "outputId": "b275932d-ca0f-40d7-b078-8ab95694a584"
      },
      "execution_count": 5,
      "outputs": [
        {
          "output_type": "stream",
          "name": "stdout",
          "text": [
            "Hola ¿como estaS?\n"
          ]
        }
      ]
    },
    {
      "cell_type": "code",
      "source": [
        "def saludar(nombre):\n",
        "  print(\"Hola \"+nombre+\" ¿Como estas?\")\n",
        "\n",
        "saludar(\"Jorge\")\n",
        "saludar(\"Marta\")"
      ],
      "metadata": {
        "colab": {
          "base_uri": "https://localhost:8080/"
        },
        "id": "5WYS6tN2w7gP",
        "outputId": "68230703-5ec2-4493-f1eb-a37c3bd90b20"
      },
      "execution_count": 6,
      "outputs": [
        {
          "output_type": "stream",
          "name": "stdout",
          "text": [
            "Hola Jorge ¿Como estas?\n",
            "Hola Marta ¿Como estas?\n"
          ]
        }
      ]
    },
    {
      "cell_type": "code",
      "source": [
        "import random\n",
        "\n",
        "def tirar_dado():\n",
        "  numero = random.randint(1,6)\n",
        "  return numero\n",
        "\n",
        "tu_numero = tirar_dado()\n",
        "print(\"El numero que salio es \" + str(tu_numero))"
      ],
      "metadata": {
        "colab": {
          "base_uri": "https://localhost:8080/"
        },
        "id": "QTlY5snlxk5l",
        "outputId": "3c2eefd0-c4bb-4789-8e25-b20ad61f0c39"
      },
      "execution_count": 7,
      "outputs": [
        {
          "output_type": "stream",
          "name": "stdout",
          "text": [
            "El numero que salio es 3\n"
          ]
        }
      ]
    },
    {
      "cell_type": "markdown",
      "source": [
        "##Ejercicio\n",
        "1. Crear una funcion que calcule y regrese la edad\n",
        "2. Crear una funcion que diga si es mayor de edad\n",
        "3. Mostrar respuesta por consola\n",
        "\n",
        "![imagen](https://static.vecteezy.com/system/resources/previews/018/868/352/non_2x/age-rating-sign-over-18-on-transparent-background-free-png.png)"
      ],
      "metadata": {
        "id": "j_MgkTXizeDb"
      }
    },
    {
      "cell_type": "code",
      "source": [
        "from prompt_toolkit.application.application import E\n",
        "import datetime\n",
        "\n",
        "def calcular_edad(anio, mes, dia):\n",
        "      currentDateTime = datetime.datetime.now()\n",
        "      date = currentDateTime.date()\n",
        "\n",
        "      edad = date.year - anio\n",
        "\n",
        "      if (date.month > mes):\n",
        "          edad = edad\n",
        "\n",
        "      elif (date.month == mes and date.day >= dia):\n",
        "          edad = edad\n",
        "\n",
        "      else:\n",
        "        edad = edad - 1\n",
        "\n",
        "      return edad\n",
        "\n",
        "def es_mayor_edad(edad):\n",
        "      if(edad >= 18):\n",
        "        mayoria_edad = True\n",
        "      else:\n",
        "        mayoria_edad = False\n",
        "\n",
        "      return mayoria_edad\n",
        "\n",
        "\n",
        "edad_actual = calcular_edad( persona['anio_nacimiento'], persona['mes_nacimiento'], persona['dia_nacimiento'])\n",
        "\n",
        "mayoria_edad = es_mayor_edad(edad_actual)\n",
        "\n",
        "if (mayoria_edad is True):\n",
        "  print(\"La persona llamada \"+persona[\"nombre\"]+\" tiene \"+str(edad_actual)+\" años y es Mayor de edad\")\n",
        "else:\n",
        "  print(\"La persona llamada \"+persona[\"nombre\"]+\" tiene \"+str(edad_actual)+\" años y No es Mayor de edad\")\n"
      ],
      "metadata": {
        "colab": {
          "base_uri": "https://localhost:8080/"
        },
        "id": "SsC_CBq-yECi",
        "outputId": "f3cdffae-d3a8-43f4-ddc0-f73db0fb92e4"
      },
      "execution_count": 8,
      "outputs": [
        {
          "output_type": "stream",
          "name": "stdout",
          "text": [
            "La persona llamada Marcelo tiene 26 años y es Mayor de edad\n"
          ]
        }
      ]
    },
    {
      "cell_type": "code",
      "source": [],
      "metadata": {
        "id": "bbUOSlYj0HV0"
      },
      "execution_count": 8,
      "outputs": []
    }
  ]
}